{
 "cells": [
  {
   "cell_type": "code",
   "execution_count": 4,
   "id": "3ed89b0f-983c-4a7d-a9b6-ddd2c487da8e",
   "metadata": {},
   "outputs": [],
   "source": [
    "import pandas as pd\n",
    "import numpy as np\n",
    "import seaborn as sns\n",
    "import matplotlib.pyplot as plt\n",
    "from sklearn.model_selection import train_test_split\n",
    "from sklearn.linear_model import LinearRegression\n",
    "from sklearn.metrics import mean_squared_error\n"
   ]
  },
  {
   "cell_type": "code",
   "execution_count": 6,
   "id": "3edd969f-b576-4ab0-b595-53f385ffadb3",
   "metadata": {},
   "outputs": [],
   "source": [
    "# Load the dataset\n",
    "data=pd.read_csv(r\"C:\\Users\\chall\\Downloads\\cost_of_living.csv\")  # replace with your dataset\n"
   ]
  },
  {
   "cell_type": "code",
   "execution_count": 8,
   "id": "25543c9c-f09c-4179-8fc9-b29605763fe0",
   "metadata": {},
   "outputs": [
    {
     "data": {
      "text/html": [
       "<div>\n",
       "<style scoped>\n",
       "    .dataframe tbody tr th:only-of-type {\n",
       "        vertical-align: middle;\n",
       "    }\n",
       "\n",
       "    .dataframe tbody tr th {\n",
       "        vertical-align: top;\n",
       "    }\n",
       "\n",
       "    .dataframe thead th {\n",
       "        text-align: right;\n",
       "    }\n",
       "</style>\n",
       "<table border=\"1\" class=\"dataframe\">\n",
       "  <thead>\n",
       "    <tr style=\"text-align: right;\">\n",
       "      <th></th>\n",
       "      <th>Country</th>\n",
       "      <th>Cost of Living Index</th>\n",
       "      <th>Rent Index</th>\n",
       "      <th>Cost of Living Plus Rent Index</th>\n",
       "      <th>Groceries Index</th>\n",
       "      <th>Restaurant Price Index</th>\n",
       "      <th>Local Purchasing Power Index</th>\n",
       "    </tr>\n",
       "  </thead>\n",
       "  <tbody>\n",
       "    <tr>\n",
       "      <th>0</th>\n",
       "      <td>Switzerland</td>\n",
       "      <td>101.1</td>\n",
       "      <td>46.5</td>\n",
       "      <td>74.9</td>\n",
       "      <td>109.1</td>\n",
       "      <td>97.0</td>\n",
       "      <td>158.7</td>\n",
       "    </tr>\n",
       "    <tr>\n",
       "      <th>1</th>\n",
       "      <td>Bahamas</td>\n",
       "      <td>85.0</td>\n",
       "      <td>36.7</td>\n",
       "      <td>61.8</td>\n",
       "      <td>81.6</td>\n",
       "      <td>83.3</td>\n",
       "      <td>54.6</td>\n",
       "    </tr>\n",
       "    <tr>\n",
       "      <th>2</th>\n",
       "      <td>Iceland</td>\n",
       "      <td>83.0</td>\n",
       "      <td>39.2</td>\n",
       "      <td>62.0</td>\n",
       "      <td>88.4</td>\n",
       "      <td>86.8</td>\n",
       "      <td>120.3</td>\n",
       "    </tr>\n",
       "    <tr>\n",
       "      <th>3</th>\n",
       "      <td>Singapore</td>\n",
       "      <td>76.7</td>\n",
       "      <td>67.2</td>\n",
       "      <td>72.1</td>\n",
       "      <td>74.6</td>\n",
       "      <td>50.4</td>\n",
       "      <td>111.1</td>\n",
       "    </tr>\n",
       "    <tr>\n",
       "      <th>4</th>\n",
       "      <td>Barbados</td>\n",
       "      <td>76.6</td>\n",
       "      <td>19.0</td>\n",
       "      <td>48.9</td>\n",
       "      <td>80.8</td>\n",
       "      <td>69.4</td>\n",
       "      <td>43.5</td>\n",
       "    </tr>\n",
       "  </tbody>\n",
       "</table>\n",
       "</div>"
      ],
      "text/plain": [
       "       Country  Cost of Living Index  Rent Index  \\\n",
       "0  Switzerland                 101.1        46.5   \n",
       "1      Bahamas                  85.0        36.7   \n",
       "2      Iceland                  83.0        39.2   \n",
       "3    Singapore                  76.7        67.2   \n",
       "4     Barbados                  76.6        19.0   \n",
       "\n",
       "   Cost of Living Plus Rent Index  Groceries Index  Restaurant Price Index  \\\n",
       "0                            74.9            109.1                    97.0   \n",
       "1                            61.8             81.6                    83.3   \n",
       "2                            62.0             88.4                    86.8   \n",
       "3                            72.1             74.6                    50.4   \n",
       "4                            48.9             80.8                    69.4   \n",
       "\n",
       "   Local Purchasing Power Index  \n",
       "0                         158.7  \n",
       "1                          54.6  \n",
       "2                         120.3  \n",
       "3                         111.1  \n",
       "4                          43.5  "
      ]
     },
     "execution_count": 8,
     "metadata": {},
     "output_type": "execute_result"
    }
   ],
   "source": [
    "data.head()"
   ]
  },
  {
   "cell_type": "code",
   "execution_count": 10,
   "id": "f2aeb6b9-660a-4201-a379-d5240f22240f",
   "metadata": {},
   "outputs": [
    {
     "data": {
      "text/html": [
       "<div>\n",
       "<style scoped>\n",
       "    .dataframe tbody tr th:only-of-type {\n",
       "        vertical-align: middle;\n",
       "    }\n",
       "\n",
       "    .dataframe tbody tr th {\n",
       "        vertical-align: top;\n",
       "    }\n",
       "\n",
       "    .dataframe thead th {\n",
       "        text-align: right;\n",
       "    }\n",
       "</style>\n",
       "<table border=\"1\" class=\"dataframe\">\n",
       "  <thead>\n",
       "    <tr style=\"text-align: right;\">\n",
       "      <th></th>\n",
       "      <th>Country</th>\n",
       "      <th>Cost of Living Index</th>\n",
       "      <th>Rent Index</th>\n",
       "      <th>Cost of Living Plus Rent Index</th>\n",
       "      <th>Groceries Index</th>\n",
       "      <th>Restaurant Price Index</th>\n",
       "      <th>Local Purchasing Power Index</th>\n",
       "    </tr>\n",
       "  </thead>\n",
       "  <tbody>\n",
       "    <tr>\n",
       "      <th>116</th>\n",
       "      <td>Bangladesh</td>\n",
       "      <td>22.5</td>\n",
       "      <td>2.4</td>\n",
       "      <td>12.8</td>\n",
       "      <td>25.7</td>\n",
       "      <td>12.8</td>\n",
       "      <td>33.1</td>\n",
       "    </tr>\n",
       "    <tr>\n",
       "      <th>117</th>\n",
       "      <td>India</td>\n",
       "      <td>21.2</td>\n",
       "      <td>5.6</td>\n",
       "      <td>13.7</td>\n",
       "      <td>23.8</td>\n",
       "      <td>15.1</td>\n",
       "      <td>82.6</td>\n",
       "    </tr>\n",
       "    <tr>\n",
       "      <th>118</th>\n",
       "      <td>Egypt</td>\n",
       "      <td>21.0</td>\n",
       "      <td>3.7</td>\n",
       "      <td>12.7</td>\n",
       "      <td>21.2</td>\n",
       "      <td>16.2</td>\n",
       "      <td>20.0</td>\n",
       "    </tr>\n",
       "    <tr>\n",
       "      <th>119</th>\n",
       "      <td>Libya</td>\n",
       "      <td>20.4</td>\n",
       "      <td>4.3</td>\n",
       "      <td>12.7</td>\n",
       "      <td>22.2</td>\n",
       "      <td>15.2</td>\n",
       "      <td>42.0</td>\n",
       "    </tr>\n",
       "    <tr>\n",
       "      <th>120</th>\n",
       "      <td>Pakistan</td>\n",
       "      <td>18.8</td>\n",
       "      <td>2.8</td>\n",
       "      <td>11.1</td>\n",
       "      <td>17.5</td>\n",
       "      <td>12.9</td>\n",
       "      <td>29.1</td>\n",
       "    </tr>\n",
       "  </tbody>\n",
       "</table>\n",
       "</div>"
      ],
      "text/plain": [
       "        Country  Cost of Living Index  Rent Index  \\\n",
       "116  Bangladesh                  22.5         2.4   \n",
       "117       India                  21.2         5.6   \n",
       "118       Egypt                  21.0         3.7   \n",
       "119       Libya                  20.4         4.3   \n",
       "120    Pakistan                  18.8         2.8   \n",
       "\n",
       "     Cost of Living Plus Rent Index  Groceries Index  Restaurant Price Index  \\\n",
       "116                            12.8             25.7                    12.8   \n",
       "117                            13.7             23.8                    15.1   \n",
       "118                            12.7             21.2                    16.2   \n",
       "119                            12.7             22.2                    15.2   \n",
       "120                            11.1             17.5                    12.9   \n",
       "\n",
       "     Local Purchasing Power Index  \n",
       "116                          33.1  \n",
       "117                          82.6  \n",
       "118                          20.0  \n",
       "119                          42.0  \n",
       "120                          29.1  "
      ]
     },
     "execution_count": 10,
     "metadata": {},
     "output_type": "execute_result"
    }
   ],
   "source": [
    "data.tail()"
   ]
  },
  {
   "cell_type": "code",
   "execution_count": 26,
   "id": "f07eb514-4635-486c-acbe-4195184ad401",
   "metadata": {},
   "outputs": [
    {
     "name": "stdout",
     "output_type": "stream",
     "text": [
      "<class 'pandas.core.frame.DataFrame'>\n",
      "RangeIndex: 121 entries, 0 to 120\n",
      "Data columns (total 7 columns):\n",
      " #   Column                          Non-Null Count  Dtype  \n",
      "---  ------                          --------------  -----  \n",
      " 0   Country                         121 non-null    object \n",
      " 1   Cost of Living Index            121 non-null    float64\n",
      " 2   Rent Index                      121 non-null    float64\n",
      " 3   Cost of Living Plus Rent Index  121 non-null    float64\n",
      " 4   Groceries Index                 121 non-null    float64\n",
      " 5   Restaurant Price Index          121 non-null    float64\n",
      " 6   Local Purchasing Power Index    121 non-null    float64\n",
      "dtypes: float64(6), object(1)\n",
      "memory usage: 6.7+ KB\n"
     ]
    }
   ],
   "source": [
    "data.info()"
   ]
  },
  {
   "cell_type": "code",
   "execution_count": 30,
   "id": "d50293e2-2463-4edf-b1d5-6f230cc65a4b",
   "metadata": {},
   "outputs": [
    {
     "data": {
      "text/plain": [
       "(121, 7)"
      ]
     },
     "execution_count": 30,
     "metadata": {},
     "output_type": "execute_result"
    }
   ],
   "source": [
    "data.shape"
   ]
  },
  {
   "cell_type": "code",
   "execution_count": 16,
   "id": "3c3933d1-c468-43f4-9f8b-0ea3c2ce0e81",
   "metadata": {},
   "outputs": [
    {
     "data": {
      "text/plain": [
       "Country                           0\n",
       "Cost of Living Index              0\n",
       "Rent Index                        0\n",
       "Cost of Living Plus Rent Index    0\n",
       "Groceries Index                   0\n",
       "Restaurant Price Index            0\n",
       "Local Purchasing Power Index      0\n",
       "dtype: int64"
      ]
     },
     "execution_count": 16,
     "metadata": {},
     "output_type": "execute_result"
    }
   ],
   "source": [
    "data.isnull().sum()"
   ]
  },
  {
   "cell_type": "code",
   "execution_count": 18,
   "id": "da742670-7a20-4201-affe-7857ef524ce3",
   "metadata": {},
   "outputs": [
    {
     "data": {
      "text/plain": [
       "Country                           False\n",
       "Cost of Living Index              False\n",
       "Rent Index                        False\n",
       "Cost of Living Plus Rent Index    False\n",
       "Groceries Index                   False\n",
       "Restaurant Price Index            False\n",
       "Local Purchasing Power Index      False\n",
       "dtype: bool"
      ]
     },
     "execution_count": 18,
     "metadata": {},
     "output_type": "execute_result"
    }
   ],
   "source": [
    "data.isnull().any()"
   ]
  },
  {
   "cell_type": "code",
   "execution_count": 32,
   "id": "9becf060-f2f1-43ec-8405-4c41824b5632",
   "metadata": {},
   "outputs": [
    {
     "data": {
      "text/plain": [
       "Index(['Country', 'Cost of Living Index', 'Rent Index',\n",
       "       'Cost of Living Plus Rent Index', 'Groceries Index',\n",
       "       'Restaurant Price Index', 'Local Purchasing Power Index'],\n",
       "      dtype='object')"
      ]
     },
     "execution_count": 32,
     "metadata": {},
     "output_type": "execute_result"
    }
   ],
   "source": [
    "data.columns"
   ]
  },
  {
   "cell_type": "code",
   "execution_count": 28,
   "id": "19b4ccf9-5170-4f8f-95cb-1b5cddf0ed51",
   "metadata": {},
   "outputs": [
    {
     "data": {
      "text/html": [
       "<div>\n",
       "<style scoped>\n",
       "    .dataframe tbody tr th:only-of-type {\n",
       "        vertical-align: middle;\n",
       "    }\n",
       "\n",
       "    .dataframe tbody tr th {\n",
       "        vertical-align: top;\n",
       "    }\n",
       "\n",
       "    .dataframe thead th {\n",
       "        text-align: right;\n",
       "    }\n",
       "</style>\n",
       "<table border=\"1\" class=\"dataframe\">\n",
       "  <thead>\n",
       "    <tr style=\"text-align: right;\">\n",
       "      <th></th>\n",
       "      <th>Cost of Living Index</th>\n",
       "      <th>Rent Index</th>\n",
       "      <th>Cost of Living Plus Rent Index</th>\n",
       "      <th>Groceries Index</th>\n",
       "      <th>Restaurant Price Index</th>\n",
       "      <th>Local Purchasing Power Index</th>\n",
       "    </tr>\n",
       "  </thead>\n",
       "  <tbody>\n",
       "    <tr>\n",
       "      <th>count</th>\n",
       "      <td>121.000000</td>\n",
       "      <td>121.000000</td>\n",
       "      <td>121.000000</td>\n",
       "      <td>121.000000</td>\n",
       "      <td>121.000000</td>\n",
       "      <td>121.000000</td>\n",
       "    </tr>\n",
       "    <tr>\n",
       "      <th>mean</th>\n",
       "      <td>43.555372</td>\n",
       "      <td>16.052893</td>\n",
       "      <td>30.357851</td>\n",
       "      <td>44.228926</td>\n",
       "      <td>36.471074</td>\n",
       "      <td>65.094215</td>\n",
       "    </tr>\n",
       "    <tr>\n",
       "      <th>std</th>\n",
       "      <td>16.147574</td>\n",
       "      <td>11.412267</td>\n",
       "      <td>13.263721</td>\n",
       "      <td>17.055109</td>\n",
       "      <td>18.258110</td>\n",
       "      <td>39.569094</td>\n",
       "    </tr>\n",
       "    <tr>\n",
       "      <th>min</th>\n",
       "      <td>18.800000</td>\n",
       "      <td>2.400000</td>\n",
       "      <td>11.100000</td>\n",
       "      <td>17.500000</td>\n",
       "      <td>12.800000</td>\n",
       "      <td>2.300000</td>\n",
       "    </tr>\n",
       "    <tr>\n",
       "      <th>25%</th>\n",
       "      <td>30.200000</td>\n",
       "      <td>8.500000</td>\n",
       "      <td>19.800000</td>\n",
       "      <td>31.600000</td>\n",
       "      <td>21.600000</td>\n",
       "      <td>34.800000</td>\n",
       "    </tr>\n",
       "    <tr>\n",
       "      <th>50%</th>\n",
       "      <td>39.500000</td>\n",
       "      <td>12.400000</td>\n",
       "      <td>27.000000</td>\n",
       "      <td>40.500000</td>\n",
       "      <td>33.100000</td>\n",
       "      <td>50.600000</td>\n",
       "    </tr>\n",
       "    <tr>\n",
       "      <th>75%</th>\n",
       "      <td>52.800000</td>\n",
       "      <td>20.100000</td>\n",
       "      <td>37.000000</td>\n",
       "      <td>53.700000</td>\n",
       "      <td>47.200000</td>\n",
       "      <td>99.400000</td>\n",
       "    </tr>\n",
       "    <tr>\n",
       "      <th>max</th>\n",
       "      <td>101.100000</td>\n",
       "      <td>67.200000</td>\n",
       "      <td>74.900000</td>\n",
       "      <td>109.100000</td>\n",
       "      <td>97.000000</td>\n",
       "      <td>182.500000</td>\n",
       "    </tr>\n",
       "  </tbody>\n",
       "</table>\n",
       "</div>"
      ],
      "text/plain": [
       "       Cost of Living Index  Rent Index  Cost of Living Plus Rent Index  \\\n",
       "count            121.000000  121.000000                      121.000000   \n",
       "mean              43.555372   16.052893                       30.357851   \n",
       "std               16.147574   11.412267                       13.263721   \n",
       "min               18.800000    2.400000                       11.100000   \n",
       "25%               30.200000    8.500000                       19.800000   \n",
       "50%               39.500000   12.400000                       27.000000   \n",
       "75%               52.800000   20.100000                       37.000000   \n",
       "max              101.100000   67.200000                       74.900000   \n",
       "\n",
       "       Groceries Index  Restaurant Price Index  Local Purchasing Power Index  \n",
       "count       121.000000              121.000000                    121.000000  \n",
       "mean         44.228926               36.471074                     65.094215  \n",
       "std          17.055109               18.258110                     39.569094  \n",
       "min          17.500000               12.800000                      2.300000  \n",
       "25%          31.600000               21.600000                     34.800000  \n",
       "50%          40.500000               33.100000                     50.600000  \n",
       "75%          53.700000               47.200000                     99.400000  \n",
       "max         109.100000               97.000000                    182.500000  "
      ]
     },
     "execution_count": 28,
     "metadata": {},
     "output_type": "execute_result"
    }
   ],
   "source": [
    "data.describe()"
   ]
  },
  {
   "cell_type": "code",
   "execution_count": 14,
   "id": "51f12108-5fe1-4b17-a697-58ae6cdc5506",
   "metadata": {},
   "outputs": [
    {
     "data": {
      "text/html": [
       "<div>\n",
       "<style scoped>\n",
       "    .dataframe tbody tr th:only-of-type {\n",
       "        vertical-align: middle;\n",
       "    }\n",
       "\n",
       "    .dataframe tbody tr th {\n",
       "        vertical-align: top;\n",
       "    }\n",
       "\n",
       "    .dataframe thead th {\n",
       "        text-align: right;\n",
       "    }\n",
       "</style>\n",
       "<table border=\"1\" class=\"dataframe\">\n",
       "  <thead>\n",
       "    <tr style=\"text-align: right;\">\n",
       "      <th></th>\n",
       "      <th>count</th>\n",
       "      <th>mean</th>\n",
       "      <th>std</th>\n",
       "      <th>min</th>\n",
       "      <th>25%</th>\n",
       "      <th>50%</th>\n",
       "      <th>75%</th>\n",
       "      <th>max</th>\n",
       "    </tr>\n",
       "  </thead>\n",
       "  <tbody>\n",
       "    <tr>\n",
       "      <th>Cost of Living Index</th>\n",
       "      <td>121.0</td>\n",
       "      <td>43.555372</td>\n",
       "      <td>16.147574</td>\n",
       "      <td>18.8</td>\n",
       "      <td>30.2</td>\n",
       "      <td>39.5</td>\n",
       "      <td>52.8</td>\n",
       "      <td>101.1</td>\n",
       "    </tr>\n",
       "    <tr>\n",
       "      <th>Rent Index</th>\n",
       "      <td>121.0</td>\n",
       "      <td>16.052893</td>\n",
       "      <td>11.412267</td>\n",
       "      <td>2.4</td>\n",
       "      <td>8.5</td>\n",
       "      <td>12.4</td>\n",
       "      <td>20.1</td>\n",
       "      <td>67.2</td>\n",
       "    </tr>\n",
       "    <tr>\n",
       "      <th>Cost of Living Plus Rent Index</th>\n",
       "      <td>121.0</td>\n",
       "      <td>30.357851</td>\n",
       "      <td>13.263721</td>\n",
       "      <td>11.1</td>\n",
       "      <td>19.8</td>\n",
       "      <td>27.0</td>\n",
       "      <td>37.0</td>\n",
       "      <td>74.9</td>\n",
       "    </tr>\n",
       "    <tr>\n",
       "      <th>Groceries Index</th>\n",
       "      <td>121.0</td>\n",
       "      <td>44.228926</td>\n",
       "      <td>17.055109</td>\n",
       "      <td>17.5</td>\n",
       "      <td>31.6</td>\n",
       "      <td>40.5</td>\n",
       "      <td>53.7</td>\n",
       "      <td>109.1</td>\n",
       "    </tr>\n",
       "    <tr>\n",
       "      <th>Restaurant Price Index</th>\n",
       "      <td>121.0</td>\n",
       "      <td>36.471074</td>\n",
       "      <td>18.258110</td>\n",
       "      <td>12.8</td>\n",
       "      <td>21.6</td>\n",
       "      <td>33.1</td>\n",
       "      <td>47.2</td>\n",
       "      <td>97.0</td>\n",
       "    </tr>\n",
       "    <tr>\n",
       "      <th>Local Purchasing Power Index</th>\n",
       "      <td>121.0</td>\n",
       "      <td>65.094215</td>\n",
       "      <td>39.569094</td>\n",
       "      <td>2.3</td>\n",
       "      <td>34.8</td>\n",
       "      <td>50.6</td>\n",
       "      <td>99.4</td>\n",
       "      <td>182.5</td>\n",
       "    </tr>\n",
       "  </tbody>\n",
       "</table>\n",
       "</div>"
      ],
      "text/plain": [
       "                                count       mean        std   min   25%   50%  \\\n",
       "Cost of Living Index            121.0  43.555372  16.147574  18.8  30.2  39.5   \n",
       "Rent Index                      121.0  16.052893  11.412267   2.4   8.5  12.4   \n",
       "Cost of Living Plus Rent Index  121.0  30.357851  13.263721  11.1  19.8  27.0   \n",
       "Groceries Index                 121.0  44.228926  17.055109  17.5  31.6  40.5   \n",
       "Restaurant Price Index          121.0  36.471074  18.258110  12.8  21.6  33.1   \n",
       "Local Purchasing Power Index    121.0  65.094215  39.569094   2.3  34.8  50.6   \n",
       "\n",
       "                                 75%    max  \n",
       "Cost of Living Index            52.8  101.1  \n",
       "Rent Index                      20.1   67.2  \n",
       "Cost of Living Plus Rent Index  37.0   74.9  \n",
       "Groceries Index                 53.7  109.1  \n",
       "Restaurant Price Index          47.2   97.0  \n",
       "Local Purchasing Power Index    99.4  182.5  "
      ]
     },
     "execution_count": 14,
     "metadata": {},
     "output_type": "execute_result"
    }
   ],
   "source": [
    "data.describe().T"
   ]
  },
  {
   "cell_type": "code",
   "execution_count": 20,
   "id": "ebf28e1e-d0ba-433b-9e6c-ac01d56fac40",
   "metadata": {},
   "outputs": [
    {
     "data": {
      "text/plain": [
       "Index(['Country', 'Cost of Living Index', 'Rent Index',\n",
       "       'Cost of Living Plus Rent Index', 'Groceries Index',\n",
       "       'Restaurant Price Index', 'Local Purchasing Power Index'],\n",
       "      dtype='object')"
      ]
     },
     "execution_count": 20,
     "metadata": {},
     "output_type": "execute_result"
    }
   ],
   "source": [
    "data.columns"
   ]
  },
  {
   "cell_type": "code",
   "execution_count": 22,
   "id": "455bcfb4-7e8a-4eb6-aee9-4aed590486d7",
   "metadata": {},
   "outputs": [
    {
     "data": {
      "text/plain": [
       "RangeIndex(start=0, stop=121, step=1)"
      ]
     },
     "execution_count": 22,
     "metadata": {},
     "output_type": "execute_result"
    }
   ],
   "source": [
    "data.index"
   ]
  },
  {
   "cell_type": "code",
   "execution_count": 24,
   "id": "e316bf07-b062-4e52-9506-612361206b27",
   "metadata": {},
   "outputs": [],
   "source": [
    "data.index = list(data.index)"
   ]
  },
  {
   "cell_type": "code",
   "execution_count": 26,
   "id": "d5cf17a0-40ed-48d9-b76d-669b42773518",
   "metadata": {},
   "outputs": [
    {
     "data": {
      "text/plain": [
       "Index([  0,   1,   2,   3,   4,   5,   6,   7,   8,   9,\n",
       "       ...\n",
       "       111, 112, 113, 114, 115, 116, 117, 118, 119, 120],\n",
       "      dtype='int64', length=121)"
      ]
     },
     "execution_count": 26,
     "metadata": {},
     "output_type": "execute_result"
    }
   ],
   "source": [
    "data.index"
   ]
  },
  {
   "cell_type": "code",
   "execution_count": 28,
   "id": "3287e1e2-d9cf-4963-8c32-c15cbaa45556",
   "metadata": {},
   "outputs": [
    {
     "data": {
      "text/plain": [
       "Country\n",
       "Switzerland    1\n",
       "Montenegro     1\n",
       "Ghana          1\n",
       "Russia         1\n",
       "Philippines    1\n",
       "              ..\n",
       "Qatar          1\n",
       "Estonia        1\n",
       "Greece         1\n",
       "Bahrain        1\n",
       "Pakistan       1\n",
       "Name: count, Length: 121, dtype: int64"
      ]
     },
     "execution_count": 28,
     "metadata": {},
     "output_type": "execute_result"
    }
   ],
   "source": [
    "data[\"Country\"].value_counts()"
   ]
  },
  {
   "cell_type": "code",
   "execution_count": 30,
   "id": "e684175a-db87-485b-aefe-b9d669e32d9f",
   "metadata": {},
   "outputs": [
    {
     "data": {
      "text/html": [
       "<div>\n",
       "<style scoped>\n",
       "    .dataframe tbody tr th:only-of-type {\n",
       "        vertical-align: middle;\n",
       "    }\n",
       "\n",
       "    .dataframe tbody tr th {\n",
       "        vertical-align: top;\n",
       "    }\n",
       "\n",
       "    .dataframe thead th {\n",
       "        text-align: right;\n",
       "    }\n",
       "</style>\n",
       "<table border=\"1\" class=\"dataframe\">\n",
       "  <thead>\n",
       "    <tr style=\"text-align: right;\">\n",
       "      <th></th>\n",
       "      <th>Country</th>\n",
       "      <th>Cost of Living Index</th>\n",
       "      <th>Rent Index</th>\n",
       "      <th>Cost of Living Plus Rent Index</th>\n",
       "      <th>Groceries Index</th>\n",
       "      <th>Restaurant Price Index</th>\n",
       "      <th>Local Purchasing Power Index</th>\n",
       "    </tr>\n",
       "  </thead>\n",
       "  <tbody>\n",
       "    <tr>\n",
       "      <th>0</th>\n",
       "      <td>Switzerland</td>\n",
       "      <td>101.1</td>\n",
       "      <td>46.5</td>\n",
       "      <td>74.9</td>\n",
       "      <td>109.1</td>\n",
       "      <td>97.0</td>\n",
       "      <td>158.7</td>\n",
       "    </tr>\n",
       "  </tbody>\n",
       "</table>\n",
       "</div>"
      ],
      "text/plain": [
       "       Country  Cost of Living Index  Rent Index  \\\n",
       "0  Switzerland                 101.1        46.5   \n",
       "\n",
       "   Cost of Living Plus Rent Index  Groceries Index  Restaurant Price Index  \\\n",
       "0                            74.9            109.1                    97.0   \n",
       "\n",
       "   Local Purchasing Power Index  \n",
       "0                         158.7  "
      ]
     },
     "execution_count": 30,
     "metadata": {},
     "output_type": "execute_result"
    }
   ],
   "source": [
    "d = (data[data['Cost of Living Index'] > 90])\n",
    "d"
   ]
  },
  {
   "cell_type": "code",
   "execution_count": 32,
   "id": "8699f4fc-b3d8-464b-94d0-8ba348a9d4bb",
   "metadata": {},
   "outputs": [
    {
     "data": {
      "text/html": [
       "<div>\n",
       "<style scoped>\n",
       "    .dataframe tbody tr th:only-of-type {\n",
       "        vertical-align: middle;\n",
       "    }\n",
       "\n",
       "    .dataframe tbody tr th {\n",
       "        vertical-align: top;\n",
       "    }\n",
       "\n",
       "    .dataframe thead th {\n",
       "        text-align: right;\n",
       "    }\n",
       "</style>\n",
       "<table border=\"1\" class=\"dataframe\">\n",
       "  <thead>\n",
       "    <tr style=\"text-align: right;\">\n",
       "      <th></th>\n",
       "      <th>Country</th>\n",
       "      <th>Cost of Living Index</th>\n",
       "      <th>Rent Index</th>\n",
       "      <th>Cost of Living Plus Rent Index</th>\n",
       "      <th>Groceries Index</th>\n",
       "      <th>Restaurant Price Index</th>\n",
       "      <th>Local Purchasing Power Index</th>\n",
       "    </tr>\n",
       "  </thead>\n",
       "  <tbody>\n",
       "    <tr>\n",
       "      <th>117</th>\n",
       "      <td>India</td>\n",
       "      <td>21.2</td>\n",
       "      <td>5.6</td>\n",
       "      <td>13.7</td>\n",
       "      <td>23.8</td>\n",
       "      <td>15.1</td>\n",
       "      <td>82.6</td>\n",
       "    </tr>\n",
       "  </tbody>\n",
       "</table>\n",
       "</div>"
      ],
      "text/plain": [
       "    Country  Cost of Living Index  Rent Index  Cost of Living Plus Rent Index  \\\n",
       "117   India                  21.2         5.6                            13.7   \n",
       "\n",
       "     Groceries Index  Restaurant Price Index  Local Purchasing Power Index  \n",
       "117             23.8                    15.1                          82.6  "
      ]
     },
     "execution_count": 32,
     "metadata": {},
     "output_type": "execute_result"
    }
   ],
   "source": [
    "f = (data[data[\"Country\"] == \"India\"])\n",
    "f"
   ]
  },
  {
   "cell_type": "code",
   "execution_count": 34,
   "id": "63e1dbfc-1800-436f-84c2-4908893e6be5",
   "metadata": {},
   "outputs": [],
   "source": [
    "# to get top 5 country based on cost of living\n",
    "sorted_df = data.sort_values(by='Cost of Living Index', ascending=False)"
   ]
  },
  {
   "cell_type": "code",
   "execution_count": 36,
   "id": "b75f0d1b-f735-4553-92c4-506114bd7f74",
   "metadata": {},
   "outputs": [
    {
     "data": {
      "text/html": [
       "<div>\n",
       "<style scoped>\n",
       "    .dataframe tbody tr th:only-of-type {\n",
       "        vertical-align: middle;\n",
       "    }\n",
       "\n",
       "    .dataframe tbody tr th {\n",
       "        vertical-align: top;\n",
       "    }\n",
       "\n",
       "    .dataframe thead th {\n",
       "        text-align: right;\n",
       "    }\n",
       "</style>\n",
       "<table border=\"1\" class=\"dataframe\">\n",
       "  <thead>\n",
       "    <tr style=\"text-align: right;\">\n",
       "      <th></th>\n",
       "      <th>Country</th>\n",
       "      <th>Cost of Living Index</th>\n",
       "      <th>Rent Index</th>\n",
       "      <th>Cost of Living Plus Rent Index</th>\n",
       "      <th>Groceries Index</th>\n",
       "      <th>Restaurant Price Index</th>\n",
       "      <th>Local Purchasing Power Index</th>\n",
       "    </tr>\n",
       "  </thead>\n",
       "  <tbody>\n",
       "    <tr>\n",
       "      <th>0</th>\n",
       "      <td>Switzerland</td>\n",
       "      <td>101.1</td>\n",
       "      <td>46.5</td>\n",
       "      <td>74.9</td>\n",
       "      <td>109.1</td>\n",
       "      <td>97.0</td>\n",
       "      <td>158.7</td>\n",
       "    </tr>\n",
       "    <tr>\n",
       "      <th>1</th>\n",
       "      <td>Bahamas</td>\n",
       "      <td>85.0</td>\n",
       "      <td>36.7</td>\n",
       "      <td>61.8</td>\n",
       "      <td>81.6</td>\n",
       "      <td>83.3</td>\n",
       "      <td>54.6</td>\n",
       "    </tr>\n",
       "    <tr>\n",
       "      <th>2</th>\n",
       "      <td>Iceland</td>\n",
       "      <td>83.0</td>\n",
       "      <td>39.2</td>\n",
       "      <td>62.0</td>\n",
       "      <td>88.4</td>\n",
       "      <td>86.8</td>\n",
       "      <td>120.3</td>\n",
       "    </tr>\n",
       "    <tr>\n",
       "      <th>3</th>\n",
       "      <td>Singapore</td>\n",
       "      <td>76.7</td>\n",
       "      <td>67.2</td>\n",
       "      <td>72.1</td>\n",
       "      <td>74.6</td>\n",
       "      <td>50.4</td>\n",
       "      <td>111.1</td>\n",
       "    </tr>\n",
       "    <tr>\n",
       "      <th>4</th>\n",
       "      <td>Barbados</td>\n",
       "      <td>76.6</td>\n",
       "      <td>19.0</td>\n",
       "      <td>48.9</td>\n",
       "      <td>80.8</td>\n",
       "      <td>69.4</td>\n",
       "      <td>43.5</td>\n",
       "    </tr>\n",
       "  </tbody>\n",
       "</table>\n",
       "</div>"
      ],
      "text/plain": [
       "       Country  Cost of Living Index  Rent Index  \\\n",
       "0  Switzerland                 101.1        46.5   \n",
       "1      Bahamas                  85.0        36.7   \n",
       "2      Iceland                  83.0        39.2   \n",
       "3    Singapore                  76.7        67.2   \n",
       "4     Barbados                  76.6        19.0   \n",
       "\n",
       "   Cost of Living Plus Rent Index  Groceries Index  Restaurant Price Index  \\\n",
       "0                            74.9            109.1                    97.0   \n",
       "1                            61.8             81.6                    83.3   \n",
       "2                            62.0             88.4                    86.8   \n",
       "3                            72.1             74.6                    50.4   \n",
       "4                            48.9             80.8                    69.4   \n",
       "\n",
       "   Local Purchasing Power Index  \n",
       "0                         158.7  \n",
       "1                          54.6  \n",
       "2                         120.3  \n",
       "3                         111.1  \n",
       "4                          43.5  "
      ]
     },
     "execution_count": 36,
     "metadata": {},
     "output_type": "execute_result"
    }
   ],
   "source": [
    "sorted_df.head()"
   ]
  },
  {
   "cell_type": "code",
   "execution_count": 38,
   "id": "b477b1e8-a83e-4f0c-85ba-20f3604156b8",
   "metadata": {},
   "outputs": [
    {
     "data": {
      "text/html": [
       "<div>\n",
       "<style scoped>\n",
       "    .dataframe tbody tr th:only-of-type {\n",
       "        vertical-align: middle;\n",
       "    }\n",
       "\n",
       "    .dataframe tbody tr th {\n",
       "        vertical-align: top;\n",
       "    }\n",
       "\n",
       "    .dataframe thead th {\n",
       "        text-align: right;\n",
       "    }\n",
       "</style>\n",
       "<table border=\"1\" class=\"dataframe\">\n",
       "  <thead>\n",
       "    <tr style=\"text-align: right;\">\n",
       "      <th></th>\n",
       "      <th>Country</th>\n",
       "      <th>Cost of Living Index</th>\n",
       "      <th>Rent Index</th>\n",
       "      <th>Cost of Living Plus Rent Index</th>\n",
       "      <th>Groceries Index</th>\n",
       "      <th>Restaurant Price Index</th>\n",
       "      <th>Local Purchasing Power Index</th>\n",
       "    </tr>\n",
       "  </thead>\n",
       "  <tbody>\n",
       "    <tr>\n",
       "      <th>116</th>\n",
       "      <td>Bangladesh</td>\n",
       "      <td>22.5</td>\n",
       "      <td>2.4</td>\n",
       "      <td>12.8</td>\n",
       "      <td>25.7</td>\n",
       "      <td>12.8</td>\n",
       "      <td>33.1</td>\n",
       "    </tr>\n",
       "    <tr>\n",
       "      <th>117</th>\n",
       "      <td>India</td>\n",
       "      <td>21.2</td>\n",
       "      <td>5.6</td>\n",
       "      <td>13.7</td>\n",
       "      <td>23.8</td>\n",
       "      <td>15.1</td>\n",
       "      <td>82.6</td>\n",
       "    </tr>\n",
       "    <tr>\n",
       "      <th>118</th>\n",
       "      <td>Egypt</td>\n",
       "      <td>21.0</td>\n",
       "      <td>3.7</td>\n",
       "      <td>12.7</td>\n",
       "      <td>21.2</td>\n",
       "      <td>16.2</td>\n",
       "      <td>20.0</td>\n",
       "    </tr>\n",
       "    <tr>\n",
       "      <th>119</th>\n",
       "      <td>Libya</td>\n",
       "      <td>20.4</td>\n",
       "      <td>4.3</td>\n",
       "      <td>12.7</td>\n",
       "      <td>22.2</td>\n",
       "      <td>15.2</td>\n",
       "      <td>42.0</td>\n",
       "    </tr>\n",
       "    <tr>\n",
       "      <th>120</th>\n",
       "      <td>Pakistan</td>\n",
       "      <td>18.8</td>\n",
       "      <td>2.8</td>\n",
       "      <td>11.1</td>\n",
       "      <td>17.5</td>\n",
       "      <td>12.9</td>\n",
       "      <td>29.1</td>\n",
       "    </tr>\n",
       "  </tbody>\n",
       "</table>\n",
       "</div>"
      ],
      "text/plain": [
       "        Country  Cost of Living Index  Rent Index  \\\n",
       "116  Bangladesh                  22.5         2.4   \n",
       "117       India                  21.2         5.6   \n",
       "118       Egypt                  21.0         3.7   \n",
       "119       Libya                  20.4         4.3   \n",
       "120    Pakistan                  18.8         2.8   \n",
       "\n",
       "     Cost of Living Plus Rent Index  Groceries Index  Restaurant Price Index  \\\n",
       "116                            12.8             25.7                    12.8   \n",
       "117                            13.7             23.8                    15.1   \n",
       "118                            12.7             21.2                    16.2   \n",
       "119                            12.7             22.2                    15.2   \n",
       "120                            11.1             17.5                    12.9   \n",
       "\n",
       "     Local Purchasing Power Index  \n",
       "116                          33.1  \n",
       "117                          82.6  \n",
       "118                          20.0  \n",
       "119                          42.0  \n",
       "120                          29.1  "
      ]
     },
     "execution_count": 38,
     "metadata": {},
     "output_type": "execute_result"
    }
   ],
   "source": [
    "sorted_df.tail()"
   ]
  },
  {
   "cell_type": "code",
   "execution_count": 54,
   "id": "726abd44-d20d-4f04-9a0b-646583e3959c",
   "metadata": {},
   "outputs": [
    {
     "data": {
      "text/plain": [
       "Index(['Cost of Living Index', 'Rent Index', 'Cost of Living Plus Rent Index',\n",
       "       'Groceries Index', 'Restaurant Price Index',\n",
       "       'Local Purchasing Power Index', 'Country_Value'],\n",
       "      dtype='object')"
      ]
     },
     "execution_count": 54,
     "metadata": {},
     "output_type": "execute_result"
    }
   ],
   "source": [
    "data.columns"
   ]
  },
  {
   "cell_type": "code",
   "execution_count": 72,
   "id": "28f6bd9b-4464-4876-b4ef-d08b1384f742",
   "metadata": {},
   "outputs": [
    {
     "ename": "SyntaxError",
     "evalue": "invalid syntax (4242507454.py, line 12)",
     "output_type": "error",
     "traceback": [
      "\u001b[1;36m  Cell \u001b[1;32mIn[72], line 12\u001b[1;36m\u001b[0m\n\u001b[1;33m    sns..countplot(x=cat_cols[i], data=data)\u001b[0m\n\u001b[1;37m        ^\u001b[0m\n\u001b[1;31mSyntaxError\u001b[0m\u001b[1;31m:\u001b[0m invalid syntax\n"
     ]
    }
   ],
   "source": [
    "cat_cols =['Cost of Living Index', 'Rent Index', 'Cost of Living Plus Rent Index',\n",
    "       'Groceries Index', 'Restaurant Price Index',\n",
    "       'Local Purchasing Power Index', 'Country_Value'] \n",
    "i=0\n",
    "while i < 8:\n",
    "    fig = plt.figure(figsize=[14,7])\n",
    "    #ax1 = fig.add_subplot(121)\n",
    "    #ax2 = fig.add_subplot(122)\n",
    "    \n",
    "    #ax1.title.set_text(cat_cols[i])\n",
    "    plt.subplot(1,2,1)\n",
    "    sns..countplot(x=cat_cols[i], data=data)\n",
    "    i += 1\n",
    "    \n",
    "    #ax2.title.set_text(cat_cols[i])\n",
    "    plt.subplot(1,2,2)\n",
    "    sns..countplot(x=cat_cols[i], data=data)\n",
    "    i += 1\n",
    "    \n",
    "    plt.show()"
   ]
  },
  {
   "cell_type": "code",
   "execution_count": 40,
   "id": "b1f32910-a072-4ec2-a479-33e433fe8dc4",
   "metadata": {},
   "outputs": [],
   "source": [
    "from sklearn.preprocessing import LabelEncoder"
   ]
  },
  {
   "cell_type": "code",
   "execution_count": 42,
   "id": "c78dcae1-30a8-43be-8576-c1eff7726c79",
   "metadata": {},
   "outputs": [],
   "source": [
    "# Initialize the label encoder\n",
    "label_encoder = LabelEncoder()\n",
    "# Fit and transform the data\n",
    "data[\"Country_Value\"] = label_encoder.fit_transform(data[\"Country\"])"
   ]
  },
  {
   "cell_type": "code",
   "execution_count": 44,
   "id": "17b7911e-e332-40fe-9b83-86d78dd5bd72",
   "metadata": {},
   "outputs": [],
   "source": [
    "data.drop(columns= \"Country\",axis=1, inplace=True)"
   ]
  },
  {
   "cell_type": "code",
   "execution_count": 46,
   "id": "398075f4-fbf6-4930-a492-eba6685f9cac",
   "metadata": {},
   "outputs": [
    {
     "name": "stdout",
     "output_type": "stream",
     "text": [
      "     Rent Index  Cost of Living Plus Rent Index  Groceries Index  \\\n",
      "0          46.5                            74.9            109.1   \n",
      "1          36.7                            61.8             81.6   \n",
      "2          39.2                            62.0             88.4   \n",
      "3          67.2                            72.1             74.6   \n",
      "4          19.0                            48.9             80.8   \n",
      "..          ...                             ...              ...   \n",
      "116         2.4                            12.8             25.7   \n",
      "117         5.6                            13.7             23.8   \n",
      "118         3.7                            12.7             21.2   \n",
      "119         4.3                            12.7             22.2   \n",
      "120         2.8                            11.1             17.5   \n",
      "\n",
      "     Restaurant Price Index  Local Purchasing Power Index  Country_Value  \n",
      "0                      97.0                         158.7            103  \n",
      "1                      83.3                          54.6              7  \n",
      "2                      86.8                         120.3             45  \n",
      "3                      50.4                         111.1             95  \n",
      "4                      69.4                          43.5             10  \n",
      "..                      ...                           ...            ...  \n",
      "116                    12.8                          33.1              9  \n",
      "117                    15.1                          82.6             46  \n",
      "118                    16.2                          20.0             32  \n",
      "119                    15.2                          42.0             63  \n",
      "120                    12.9                          29.1             81  \n",
      "\n",
      "[121 rows x 6 columns]\n"
     ]
    }
   ],
   "source": [
    "X = data.drop(columns= \"Cost of Living Index\")\n",
    "print(X)"
   ]
  },
  {
   "cell_type": "code",
   "execution_count": 48,
   "id": "84e6a0d2-d304-4b66-9c20-cdf5bbcd94aa",
   "metadata": {},
   "outputs": [
    {
     "name": "stdout",
     "output_type": "stream",
     "text": [
      "0      101.1\n",
      "1       85.0\n",
      "2       83.0\n",
      "3       76.7\n",
      "4       76.6\n",
      "       ...  \n",
      "116     22.5\n",
      "117     21.2\n",
      "118     21.0\n",
      "119     20.4\n",
      "120     18.8\n",
      "Name: Cost of Living Index, Length: 121, dtype: float64\n"
     ]
    }
   ],
   "source": [
    "y =data[\"Cost of Living Index\"]\n",
    "print(y)"
   ]
  },
  {
   "cell_type": "code",
   "execution_count": 50,
   "id": "594aec57-4ca9-40fe-a629-e3d9696d6936",
   "metadata": {},
   "outputs": [],
   "source": [
    "from sklearn.linear_model import LinearRegression\n",
    "from sklearn.model_selection import train_test_split\n",
    "from sklearn.metrics import mean_squared_error, r2_score"
   ]
  },
  {
   "cell_type": "code",
   "execution_count": 52,
   "id": "040e9acd-2d35-46eb-be3f-b3c0fe4f3dba",
   "metadata": {},
   "outputs": [
    {
     "name": "stdout",
     "output_type": "stream",
     "text": [
      "MSE: 0.005131148757251138\n",
      "RMSE: 0.07163203722672655\n",
      "R^2: 0.999983358291959\n"
     ]
    }
   ],
   "source": [
    "# Split the data into training and testing sets\n",
    "X_train, X_test, y_train, y_test = train_test_split(X, y, test_size=0.2, random_state=42)\n",
    "\n",
    "# Create and train the model\n",
    "model = LinearRegression()\n",
    "model.fit(X_train, y_train)\n",
    "\n",
    "# Make predictions\n",
    "y_pred = model.predict(X_test)\n",
    "\n",
    "# Evaluate the model\n",
    "mse = mean_squared_error(y_test, y_pred)\n",
    "rmse = np.sqrt(mse)\n",
    "r2 = r2_score(y_test, y_pred)\n",
    "\n",
    "print(f'MSE: {mse}')\n",
    "print(f'RMSE: {rmse}')\n",
    "print(f'R^2: {r2}')"
   ]
  },
  {
   "cell_type": "code",
   "execution_count": null,
   "id": "58281452-bea2-4899-b18e-3206050e24ec",
   "metadata": {},
   "outputs": [],
   "source": []
  },
  {
   "cell_type": "code",
   "execution_count": null,
   "id": "49870f90-b022-4b20-9001-eaf97103d55c",
   "metadata": {},
   "outputs": [],
   "source": []
  }
 ],
 "metadata": {
  "kernelspec": {
   "display_name": "Python 3 (ipykernel)",
   "language": "python",
   "name": "python3"
  },
  "language_info": {
   "codemirror_mode": {
    "name": "ipython",
    "version": 3
   },
   "file_extension": ".py",
   "mimetype": "text/x-python",
   "name": "python",
   "nbconvert_exporter": "python",
   "pygments_lexer": "ipython3",
   "version": "3.11.7"
  }
 },
 "nbformat": 4,
 "nbformat_minor": 5
}
